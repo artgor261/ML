{
 "cells": [
  {
   "cell_type": "code",
   "execution_count": 5,
   "id": "04c7ec63-5851-4d34-af60-1a4e0e9729f3",
   "metadata": {},
   "outputs": [
    {
     "name": "stdout",
     "output_type": "stream",
     "text": [
      "Requirement already satisfied: scikit-learn in c:\\anaconda3\\lib\\site-packages (1.2.2)\n",
      "Requirement already satisfied: numpy>=1.17.3 in c:\\anaconda3\\lib\\site-packages (from scikit-learn) (1.26.4)\n",
      "Requirement already satisfied: scipy>=1.3.2 in c:\\anaconda3\\lib\\site-packages (from scikit-learn) (1.11.4)\n",
      "Requirement already satisfied: joblib>=1.1.1 in c:\\anaconda3\\lib\\site-packages (from scikit-learn) (1.2.0)\n",
      "Requirement already satisfied: threadpoolctl>=2.0.0 in c:\\anaconda3\\lib\\site-packages (from scikit-learn) (2.2.0)\n"
     ]
    }
   ],
   "source": [
    "!pip install scikit-learn"
   ]
  },
  {
   "cell_type": "code",
   "execution_count": 3,
   "id": "01abf145-b647-4763-89f8-d9d310e7bd7a",
   "metadata": {},
   "outputs": [],
   "source": [
    "import pandas as pd\n",
    "from sklearn.linear_model import LinearRegression\n",
    "from sklearn.model_selection import train_test_split\n",
    "from sklearn.metrics import r2_score\n",
    "import plotly\n",
    "import plotly.graph_objs as go"
   ]
  },
  {
   "cell_type": "code",
   "execution_count": 4,
   "id": "887a7a98-e225-4a94-8914-b249235b036e",
   "metadata": {},
   "outputs": [
    {
     "data": {
      "text/html": [
       "<div>\n",
       "<style scoped>\n",
       "    .dataframe tbody tr th:only-of-type {\n",
       "        vertical-align: middle;\n",
       "    }\n",
       "\n",
       "    .dataframe tbody tr th {\n",
       "        vertical-align: top;\n",
       "    }\n",
       "\n",
       "    .dataframe thead th {\n",
       "        text-align: right;\n",
       "    }\n",
       "</style>\n",
       "<table border=\"1\" class=\"dataframe\">\n",
       "  <thead>\n",
       "    <tr style=\"text-align: right;\">\n",
       "      <th></th>\n",
       "      <th>X1</th>\n",
       "      <th>X2</th>\n",
       "      <th>Y1</th>\n",
       "    </tr>\n",
       "  </thead>\n",
       "  <tbody>\n",
       "    <tr>\n",
       "      <th>0</th>\n",
       "      <td>514.5</td>\n",
       "      <td>7.0</td>\n",
       "      <td>15.55</td>\n",
       "    </tr>\n",
       "    <tr>\n",
       "      <th>1</th>\n",
       "      <td>514.5</td>\n",
       "      <td>7.0</td>\n",
       "      <td>15.55</td>\n",
       "    </tr>\n",
       "    <tr>\n",
       "      <th>2</th>\n",
       "      <td>514.5</td>\n",
       "      <td>7.0</td>\n",
       "      <td>15.55</td>\n",
       "    </tr>\n",
       "    <tr>\n",
       "      <th>3</th>\n",
       "      <td>514.5</td>\n",
       "      <td>7.0</td>\n",
       "      <td>15.55</td>\n",
       "    </tr>\n",
       "    <tr>\n",
       "      <th>4</th>\n",
       "      <td>563.5</td>\n",
       "      <td>7.0</td>\n",
       "      <td>20.84</td>\n",
       "    </tr>\n",
       "    <tr>\n",
       "      <th>5</th>\n",
       "      <td>563.5</td>\n",
       "      <td>7.0</td>\n",
       "      <td>21.46</td>\n",
       "    </tr>\n",
       "  </tbody>\n",
       "</table>\n",
       "</div>"
      ],
      "text/plain": [
       "      X1   X2     Y1\n",
       "0  514.5  7.0  15.55\n",
       "1  514.5  7.0  15.55\n",
       "2  514.5  7.0  15.55\n",
       "3  514.5  7.0  15.55\n",
       "4  563.5  7.0  20.84\n",
       "5  563.5  7.0  21.46"
      ]
     },
     "execution_count": 4,
     "metadata": {},
     "output_type": "execute_result"
    }
   ],
   "source": [
    "df = pd.read_csv('ENB2012_data.csv')\n",
    "df.head(6)"
   ]
  },
  {
   "cell_type": "code",
   "execution_count": 21,
   "id": "e78fe095-e2e4-4a04-a17e-7eefc185ba2a",
   "metadata": {},
   "outputs": [
    {
     "data": {
      "text/plain": [
       "'3DPlot.html'"
      ]
     },
     "execution_count": 21,
     "metadata": {},
     "output_type": "execute_result"
    }
   ],
   "source": [
    "figure = go.Scatter3d(\n",
    "    x=df['X1'],\n",
    "    y=df['X2'],\n",
    "    z=df['Y1'],\n",
    "    marker=dict(opacity=0.9, reversescale=True, colorscale='Blues', size=5),\n",
    "    line=dict(width=0.02), mode='markers')\n",
    "\n",
    "my_layout = go.Layout(scene=dict(\n",
    "    xaxis=dict(title=\"X1\"),\n",
    "    yaxis=dict(title=\"X2\"),\n",
    "    zaxis=dict(title=\"Y1\")))\n",
    "\n",
    "plotly.offline.plot({\"data\": [figure],\n",
    "                     \"layout\": my_layout},\n",
    "                    auto_open=True,\n",
    "                    filename=(\"3DPlot.html\"))"
   ]
  },
  {
   "cell_type": "code",
   "execution_count": 23,
   "id": "8bf040bc-521a-4253-aefc-622545d7c390",
   "metadata": {},
   "outputs": [],
   "source": [
    "X = df[['X1', 'X2']]\n",
    "y = df['Y1']\n",
    "X_train, X_test, y_train, y_test = train_test_split(X, y, test_size=0.25)"
   ]
  },
  {
   "cell_type": "code",
   "execution_count": 24,
   "id": "bd5c34f4-5562-425f-871e-f04f6d455382",
   "metadata": {},
   "outputs": [],
   "source": [
    "model = LinearRegression()\n",
    "model.fit(X_train, y_train)\n",
    "y_pred = model.predict(X_test)"
   ]
  },
  {
   "cell_type": "code",
   "execution_count": 25,
   "id": "02116c7b-1b74-4f05-bd03-b98563f43141",
   "metadata": {},
   "outputs": [
    {
     "name": "stdout",
     "output_type": "stream",
     "text": [
      "     Actual  Predicted\n",
      "571   19.42  15.046657\n",
      "465   12.95  12.829782\n",
      "668   16.47  16.155094\n",
      "201   25.37  30.769515\n",
      "695   40.11  34.094827\n",
      "..      ...        ...\n",
      "389   32.40  29.661078\n",
      "189   12.63  16.155094\n",
      "163   36.70  32.986389\n",
      "77    10.80  11.721345\n",
      "338   28.18  27.444204\n",
      "\n",
      "[192 rows x 2 columns]\n"
     ]
    },
    {
     "data": {
      "text/plain": [
       "0.8346529971845513"
      ]
     },
     "execution_count": 25,
     "metadata": {},
     "output_type": "execute_result"
    }
   ],
   "source": [
    "print(pd.DataFrame({'Actual': y_test, 'Predicted': y_pred}))\n",
    "r2_score(y_test, y_pred)"
   ]
  },
  {
   "cell_type": "code",
   "execution_count": null,
   "id": "361c8880-6f05-4fca-a76b-5e2db5795f48",
   "metadata": {},
   "outputs": [],
   "source": []
  }
 ],
 "metadata": {
  "kernelspec": {
   "display_name": "Python 3 (ipykernel)",
   "language": "python",
   "name": "python3"
  },
  "language_info": {
   "codemirror_mode": {
    "name": "ipython",
    "version": 3
   },
   "file_extension": ".py",
   "mimetype": "text/x-python",
   "name": "python",
   "nbconvert_exporter": "python",
   "pygments_lexer": "ipython3",
   "version": "3.11.7"
  }
 },
 "nbformat": 4,
 "nbformat_minor": 5
}

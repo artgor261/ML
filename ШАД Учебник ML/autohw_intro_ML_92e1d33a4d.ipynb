{
 "cells": [
  {
   "cell_type": "markdown",
   "metadata": {
    "id": "k3zbLLaSGH6Z"
   },
   "source": [
    "## Лабораторная работа \"Введение в ML\""
   ]
  },
  {
   "cell_type": "markdown",
   "metadata": {
    "id": "SL3v975uGH6h"
   },
   "source": [
    "В этой лабораторной вы:\n",
    "\n",
    "- познакомитесь с базовыми библиотеками для работы с табличными данными — `numpy` и `pandas`\n",
    "- поближе посмотрите на простейшие задачи машинного обучения: классификацию и регрессию\n",
    "- попробуете несколько метрик и поймёте, почему выбор метрики это важно\n",
    "- обучите несколько простых моделей\n",
    "- увидите связь между сложностью модели и переобучением\n",
    "- убедитесь, что без данных всё тлен"
   ]
  },
  {
   "cell_type": "markdown",
   "metadata": {
    "id": "ad3nBqBSGH6j"
   },
   "source": [
    "Загрузка самых базовых библиотек:"
   ]
  },
  {
   "cell_type": "code",
   "execution_count": 1,
   "metadata": {
    "id": "Z8Iht5qhGH6l"
   },
   "outputs": [],
   "source": [
    "import numpy as np\n",
    "import pandas as pd\n",
    "import matplotlib.pyplot as plt\n",
    "%matplotlib inline\n",
    "\n",
    "from sklearn.model_selection import train_test_split"
   ]
  },
  {
   "cell_type": "markdown",
   "metadata": {
    "id": "4W8Eq0sTGH6n"
   },
   "source": [
    "### [NumPy](https://numpy.org/doc/stable/user/index.html)\n",
    "\n",
    "С 1995 numeric, с 2006 NumPy — «Numerical Python extensions» или просто «NumPy»\n",
    "\n",
    "Возможности библиотеки NumPy:\n",
    "* работать с многомерными массивами (таблицами)\n",
    "* быстро вычислять математические функций на многомерных массивах\n",
    "\n",
    "Ядро пакета NumPy — объект [ndarray](https://docs.scipy.org/doc/numpy/reference/generated/numpy.ndarray.html)\n",
    "\n",
    "**Важные отличия** между NumPy arrays и Python sequences:\n",
    "* NumPy array имеет фиксированную длину, которая определяется в момент его создания (в отличие от Python lists, которые могут расти динамически)\n",
    "* Элементы в NumPy array должны быть одного типа\n",
    "* Можно выполнять операции непосредственно над NumPy arrays\n",
    "\n",
    "**Скорость** NumPy достигается с помощью:\n",
    "* реализации на C\n",
    "* векторизации и броадкастинга (broadcasting). Например, произведение массивов совместимых форм.\n",
    "\n",
    "Теперь давайте разберёмся подробнее и сделаем что-нибудь приятное и полезное в `numpy`!"
   ]
  },
  {
   "cell_type": "markdown",
   "metadata": {
    "id": "eS3UKcU6GH6o"
   },
   "source": [
    "### Индексация"
   ]
  },
  {
   "cell_type": "markdown",
   "metadata": {
    "id": "VqBzoEfvGH6p"
   },
   "source": [
    "В NumPy работает привычная индексация Python, ура! Включая использование отрицательных индексов и срезов (slices)"
   ]
  },
  {
   "cell_type": "markdown",
   "metadata": {
    "id": "Anq_nSYTGH6q"
   },
   "source": [
    "<div class=\"alert alert-info\">\n",
    "<b>Замечание 1:</b> Индексы и срезы в многомерных массивах не нужно разделять квадратными скобками,\n",
    "т.е. вместо <b>matrix[i][j]</b> нужно использовать <b>matrix[i, j]</b>. Первое тоже работает, но сначала выдаёт строку i, потом элемент j в ней.\n",
    "</div>"
   ]
  },
  {
   "cell_type": "markdown",
   "metadata": {
    "id": "OoHXSVIrGH6q"
   },
   "source": [
    "<div class=\"alert alert-danger\">\n",
    "<b>Замечание 2:</b> Срезы в NumPy создают view, а не копии, как в случае срезов встроенных последовательностей Python (string, tuple and list).\n",
    "</div>"
   ]
  },
  {
   "cell_type": "code",
   "execution_count": 9,
   "metadata": {
    "id": "YJKxBB4dGH6s",
    "outputId": "61139b1d-46db-4f7f-d5bb-96b7c3f96284"
   },
   "outputs": [
    {
     "data": {
      "text/plain": [
       "array([[0., 0., 0.],\n",
       "       [0., 0., 0.],\n",
       "       [0., 0., 0.]])"
      ]
     },
     "execution_count": 9,
     "metadata": {},
     "output_type": "execute_result"
    }
   ],
   "source": [
    "ones_matrix = np.ones((5, 5))\n",
    "ones_submatrix_view = ones_matrix[::2,::2] # creates a view, not copy\n",
    "ones_matrix[::2,::2] = np.zeros((3, 3))\n",
    "ones_submatrix_view"
   ]
  },
  {
   "cell_type": "markdown",
   "metadata": {
    "id": "jpEF1rp2GH6v"
   },
   "source": [
    "### Ссылка на Яндекс.Контест\n",
    "\n",
    "Решения и ответы в задачах, расположенных ниже, загружайте в контест на автоматическую проверку:\n",
    "https://new.contest.yandex.ru/60376/start\n"
   ]
  },
  {
   "cell_type": "markdown",
   "metadata": {
    "id": "eZpuxPhJGH6v"
   },
   "source": [
    "**1.** Реализуйте функцию, принимающую на вход два одномерных массива `first_array` и `second_array` и возвращающую матрицу, в которой первый массив соответствует первому столбцу матрицы, второй — второму.\n",
    "\n",
    "Вероятно первое, что приходит вам на ум, это конкатенация и транспонирование:"
   ]
  },
  {
   "cell_type": "code",
   "execution_count": 48,
   "metadata": {
    "id": "hmQk1N6rGH6w"
   },
   "outputs": [],
   "source": [
    "def construct_matrix(first_array, second_array):\n",
    "    return np.hstack([first_array.reshape((len(first_array), 1)), second_array.reshape((len(second_array), 1))])"
   ]
  },
  {
   "cell_type": "code",
   "execution_count": 49,
   "metadata": {
    "id": "TeFqyCz4GH6x",
    "outputId": "ecd0b7d3-7acf-40f2-878e-057d17136e8c",
    "scrolled": true
   },
   "outputs": [
    {
     "data": {
      "text/plain": [
       "array([[1, 3],\n",
       "       [2, 4]])"
      ]
     },
     "execution_count": 49,
     "metadata": {},
     "output_type": "execute_result"
    }
   ],
   "source": [
    "construct_matrix(np.array([1,2]),np.array([3,4]))"
   ]
  },
  {
   "cell_type": "markdown",
   "metadata": {
    "id": "lP-lmcA2GH6y"
   },
   "source": [
    "(в скобках заметим, что конкатенировать можно vertically, horizontally, depth wise методами vstack, hstack, dstack по трём осям (0, 1 и 2, соотвественно), либо в общем случае `np.concatenate` — поиграйтесь ниже с прекрасным примером четырёхмерной точки, чтобы точно всё для себя понять)"
   ]
  },
  {
   "cell_type": "code",
   "execution_count": 5,
   "metadata": {
    "id": "xguxLJ0VGH6y",
    "outputId": "2f32df14-6f5d-4800-96b5-bb8fba9c9ec0"
   },
   "outputs": [
    {
     "data": {
      "text/plain": [
       "array([[[[0]]]])"
      ]
     },
     "execution_count": 5,
     "metadata": {},
     "output_type": "execute_result"
    }
   ],
   "source": [
    "p = np.arange(1).reshape([1, 1, 1, 1])\n",
    "p"
   ]
  },
  {
   "cell_type": "code",
   "execution_count": 8,
   "metadata": {
    "id": "z1JFw75eGH6y",
    "outputId": "16e3c894-2e0e-4a5a-edd4-7a974cfa43e4"
   },
   "outputs": [
    {
     "name": "stdout",
     "output_type": "stream",
     "text": [
      "vstack:  (2, 1, 1, 1)\n",
      "hstack:  (1, 2, 1, 1)\n",
      "dstack:  (1, 1, 2, 1)\n"
     ]
    }
   ],
   "source": [
    "print(\"vstack: \", np.vstack((p, p)).shape)\n",
    "print(\"hstack: \", np.hstack((p, p)).shape)\n",
    "print(\"dstack: \", np.dstack((p, p)).shape)"
   ]
  },
  {
   "cell_type": "code",
   "execution_count": 10,
   "metadata": {
    "id": "cvbthbDDGH6z",
    "outputId": "d89430e5-8c64-4b5f-f2b3-4343f4c659ed"
   },
   "outputs": [
    {
     "data": {
      "text/plain": [
       "(1, 1, 1, 2)"
      ]
     },
     "execution_count": 10,
     "metadata": {},
     "output_type": "execute_result"
    }
   ],
   "source": [
    "np.concatenate((p, p), axis=3).shape"
   ]
  },
  {
   "cell_type": "markdown",
   "metadata": {
    "id": "-5GkuWwaGH60"
   },
   "source": [
    "Но, поскольку операция транспонирования [делает массив non-contiguous](https://numpy.org/doc/stable/user/basics.copies.html#other-operations), мы в этой задаче **запретим** ей пользоваться и порекомедуем воспользоваться, например, методом [reshape](https://numpy.org/doc/stable/reference/generated/numpy.reshape.html)."
   ]
  },
  {
   "cell_type": "markdown",
   "metadata": {
    "id": "n3ce_o75GH61"
   },
   "source": [
    "**2.** Реализуйте функцию, принимающую на вход массив целых неотрицательных чисел `nums` и возвращающую самый частый элемент массива."
   ]
  },
  {
   "cell_type": "code",
   "execution_count": 52,
   "metadata": {
    "id": "XZysMovaGH61"
   },
   "outputs": [
    {
     "data": {
      "text/plain": [
       "10"
      ]
     },
     "execution_count": 52,
     "metadata": {},
     "output_type": "execute_result"
    }
   ],
   "source": [
    "def most_frequent(nums):\n",
    "    unique_values, freq = np.unique(nums, return_counts=True)\n",
    "    maxindex = np.argmax(freq)\n",
    "    return unique_values[maxindex]\n",
    "\n",
    "most_frequent(np.array([3, 3, 4, 5, 2, 10, 10, 10]))"
   ]
  },
  {
   "cell_type": "markdown",
   "metadata": {
    "id": "e6kjITZMGH62"
   },
   "source": [
    "### Переходим к работе с данными\n",
    "\n",
    "Прежде всего, загрузим данные и сделаем из них красивые pandas-таблички. Они взяты из параллели RecSys соревнования https://yandex.ru/cup/ml/. Но мы будем иметь дело не со всеми данными, а только с их частью. Данные у нас будут про заведения общественного питания (больше бюрократический терминологии!)\n",
    "\n",
    "Файлы с данными можно найти [здесь](https://disk.yandex.ru/d/YWvCNRQMb7QSQA).\n",
    "\n",
    "Задачей будет **предсказание среднего чека** (average_bill) по некоторым другим свойствам заведения."
   ]
  },
  {
   "cell_type": "code",
   "execution_count": 2,
   "metadata": {
    "id": "yJPF3OclGH62"
   },
   "outputs": [],
   "source": [
    "base = 'C:/Users/Артем/Datasets/'"
   ]
  },
  {
   "cell_type": "code",
   "execution_count": 3,
   "metadata": {
    "id": "uzDIu6uXGH62"
   },
   "outputs": [],
   "source": [
    "data = pd.read_csv(base + 'organisations.csv')\n",
    "features = pd.read_csv(base + 'features.csv')\n",
    "rubrics = pd.read_csv(base + 'rubrics.csv')"
   ]
  },
  {
   "cell_type": "markdown",
   "metadata": {
    "id": "k-AwDM7bGH63"
   },
   "source": [
    "В основном мы будем работать с табличкой `data`; остальное вам может пригодиться, если вы захотите знать, какое содержание стоит за кодами признаков."
   ]
  },
  {
   "cell_type": "markdown",
   "metadata": {
    "id": "4hrvEN_3GH63"
   },
   "source": [
    "## Изучение данных"
   ]
  },
  {
   "cell_type": "markdown",
   "metadata": {
    "id": "PI9YQMuCGH63"
   },
   "source": [
    "Посмотрите на данные. В этом вам поможет метод ``head`` pandas-таблички."
   ]
  },
  {
   "cell_type": "code",
   "execution_count": 4,
   "metadata": {
    "id": "VA_0DG29GH64"
   },
   "outputs": [
    {
     "data": {
      "text/html": [
       "<div>\n",
       "<style scoped>\n",
       "    .dataframe tbody tr th:only-of-type {\n",
       "        vertical-align: middle;\n",
       "    }\n",
       "\n",
       "    .dataframe tbody tr th {\n",
       "        vertical-align: top;\n",
       "    }\n",
       "\n",
       "    .dataframe thead th {\n",
       "        text-align: right;\n",
       "    }\n",
       "</style>\n",
       "<table border=\"1\" class=\"dataframe\">\n",
       "  <thead>\n",
       "    <tr style=\"text-align: right;\">\n",
       "      <th></th>\n",
       "      <th>org_id</th>\n",
       "      <th>city</th>\n",
       "      <th>average_bill</th>\n",
       "      <th>rating</th>\n",
       "      <th>rubrics_id</th>\n",
       "      <th>features_id</th>\n",
       "    </tr>\n",
       "  </thead>\n",
       "  <tbody>\n",
       "    <tr>\n",
       "      <th>0</th>\n",
       "      <td>15903868628669802651</td>\n",
       "      <td>msk</td>\n",
       "      <td>1500.0</td>\n",
       "      <td>4.270968</td>\n",
       "      <td>30776 30774</td>\n",
       "      <td>3501685156 3501779478 20422 3502045016 3502045...</td>\n",
       "    </tr>\n",
       "    <tr>\n",
       "      <th>1</th>\n",
       "      <td>16076540698036998306</td>\n",
       "      <td>msk</td>\n",
       "      <td>500.0</td>\n",
       "      <td>4.375000</td>\n",
       "      <td>30771</td>\n",
       "      <td>1509 1082283206 273469383 10462 11617 35017794...</td>\n",
       "    </tr>\n",
       "    <tr>\n",
       "      <th>2</th>\n",
       "      <td>8129364761615040323</td>\n",
       "      <td>msk</td>\n",
       "      <td>500.0</td>\n",
       "      <td>4.000000</td>\n",
       "      <td>31495</td>\n",
       "      <td>10462 11177 11617 11629 1416 1018 11704 11867 ...</td>\n",
       "    </tr>\n",
       "    <tr>\n",
       "      <th>3</th>\n",
       "      <td>15262729117594253452</td>\n",
       "      <td>msk</td>\n",
       "      <td>500.0</td>\n",
       "      <td>4.538813</td>\n",
       "      <td>30776 30770</td>\n",
       "      <td>3501618484 2020795524 11629 11617 1018 11704 2...</td>\n",
       "    </tr>\n",
       "    <tr>\n",
       "      <th>4</th>\n",
       "      <td>13418544315327784420</td>\n",
       "      <td>msk</td>\n",
       "      <td>500.0</td>\n",
       "      <td>4.409091</td>\n",
       "      <td>31495</td>\n",
       "      <td>11617 10462 11177 1416 11867 3501744275 20282 ...</td>\n",
       "    </tr>\n",
       "  </tbody>\n",
       "</table>\n",
       "</div>"
      ],
      "text/plain": [
       "                 org_id city  average_bill    rating   rubrics_id  \\\n",
       "0  15903868628669802651  msk        1500.0  4.270968  30776 30774   \n",
       "1  16076540698036998306  msk         500.0  4.375000        30771   \n",
       "2   8129364761615040323  msk         500.0  4.000000        31495   \n",
       "3  15262729117594253452  msk         500.0  4.538813  30776 30770   \n",
       "4  13418544315327784420  msk         500.0  4.409091        31495   \n",
       "\n",
       "                                         features_id  \n",
       "0  3501685156 3501779478 20422 3502045016 3502045...  \n",
       "1  1509 1082283206 273469383 10462 11617 35017794...  \n",
       "2  10462 11177 11617 11629 1416 1018 11704 11867 ...  \n",
       "3  3501618484 2020795524 11629 11617 1018 11704 2...  \n",
       "4  11617 10462 11177 1416 11867 3501744275 20282 ...  "
      ]
     },
     "execution_count": 4,
     "metadata": {},
     "output_type": "execute_result"
    }
   ],
   "source": [
    "data.head()"
   ]
  },
  {
   "cell_type": "code",
   "execution_count": 5,
   "metadata": {},
   "outputs": [
    {
     "data": {
      "text/html": [
       "<div>\n",
       "<style scoped>\n",
       "    .dataframe tbody tr th:only-of-type {\n",
       "        vertical-align: middle;\n",
       "    }\n",
       "\n",
       "    .dataframe tbody tr th {\n",
       "        vertical-align: top;\n",
       "    }\n",
       "\n",
       "    .dataframe thead th {\n",
       "        text-align: right;\n",
       "    }\n",
       "</style>\n",
       "<table border=\"1\" class=\"dataframe\">\n",
       "  <thead>\n",
       "    <tr style=\"text-align: right;\">\n",
       "      <th></th>\n",
       "      <th>rubric_id</th>\n",
       "      <th>rubric_name</th>\n",
       "    </tr>\n",
       "  </thead>\n",
       "  <tbody>\n",
       "    <tr>\n",
       "      <th>0</th>\n",
       "      <td>30519</td>\n",
       "      <td>Булочная, пекарня</td>\n",
       "    </tr>\n",
       "    <tr>\n",
       "      <th>1</th>\n",
       "      <td>30770</td>\n",
       "      <td>Бар, паб</td>\n",
       "    </tr>\n",
       "    <tr>\n",
       "      <th>2</th>\n",
       "      <td>30771</td>\n",
       "      <td>Быстрое питание</td>\n",
       "    </tr>\n",
       "    <tr>\n",
       "      <th>3</th>\n",
       "      <td>30774</td>\n",
       "      <td>Кафе</td>\n",
       "    </tr>\n",
       "    <tr>\n",
       "      <th>4</th>\n",
       "      <td>30775</td>\n",
       "      <td>Пиццерия</td>\n",
       "    </tr>\n",
       "  </tbody>\n",
       "</table>\n",
       "</div>"
      ],
      "text/plain": [
       "   rubric_id        rubric_name\n",
       "0      30519  Булочная, пекарня\n",
       "1      30770           Бар, паб\n",
       "2      30771    Быстрое питание\n",
       "3      30774               Кафе\n",
       "4      30775           Пиццерия"
      ]
     },
     "execution_count": 5,
     "metadata": {},
     "output_type": "execute_result"
    }
   ],
   "source": [
    "rubrics.head()"
   ]
  },
  {
   "cell_type": "code",
   "execution_count": 24,
   "metadata": {},
   "outputs": [
    {
     "data": {
      "text/html": [
       "<div>\n",
       "<style scoped>\n",
       "    .dataframe tbody tr th:only-of-type {\n",
       "        vertical-align: middle;\n",
       "    }\n",
       "\n",
       "    .dataframe tbody tr th {\n",
       "        vertical-align: top;\n",
       "    }\n",
       "\n",
       "    .dataframe thead th {\n",
       "        text-align: right;\n",
       "    }\n",
       "</style>\n",
       "<table border=\"1\" class=\"dataframe\">\n",
       "  <thead>\n",
       "    <tr style=\"text-align: right;\">\n",
       "      <th></th>\n",
       "      <th>feature_id</th>\n",
       "      <th>feature_name</th>\n",
       "    </tr>\n",
       "  </thead>\n",
       "  <tbody>\n",
       "    <tr>\n",
       "      <th>0</th>\n",
       "      <td>1</td>\n",
       "      <td>prepress_and_post_printing_processing</td>\n",
       "    </tr>\n",
       "    <tr>\n",
       "      <th>1</th>\n",
       "      <td>40</td>\n",
       "      <td>products</td>\n",
       "    </tr>\n",
       "    <tr>\n",
       "      <th>2</th>\n",
       "      <td>54</td>\n",
       "      <td>printing_method</td>\n",
       "    </tr>\n",
       "    <tr>\n",
       "      <th>3</th>\n",
       "      <td>77</td>\n",
       "      <td>fuel</td>\n",
       "    </tr>\n",
       "    <tr>\n",
       "      <th>4</th>\n",
       "      <td>79</td>\n",
       "      <td>shop</td>\n",
       "    </tr>\n",
       "  </tbody>\n",
       "</table>\n",
       "</div>"
      ],
      "text/plain": [
       "   feature_id                           feature_name\n",
       "0           1  prepress_and_post_printing_processing\n",
       "1          40                               products\n",
       "2          54                        printing_method\n",
       "3          77                                   fuel\n",
       "4          79                                   shop"
      ]
     },
     "execution_count": 24,
     "metadata": {},
     "output_type": "execute_result"
    }
   ],
   "source": [
    "features.head()"
   ]
  },
  {
   "cell_type": "markdown",
   "metadata": {
    "id": "GN9kZbURGH64"
   },
   "source": [
    "Полезно посмотреть внимательнее на то, с какими признаками нам предстоит работать.\n",
    "\n",
    "* **org_id** вам не понадобится;\n",
    "* **city** - город, в котором находится заведение (``msk`` или ``spb``);\n",
    "* **average_bill** - средний чек в заведении - он будет нашим таргетом;\n",
    "* **rating** - рейтинг заведения;\n",
    "* **rubrics_id** - тип заведения (или несколько типов). Соответствие кодов каким-то человекочитаемым типам живёт в табличке ``rubrics``\n",
    "* **features_id** - набор неких фичей заведения. Соответствие кодов каким-то человекочитаемым типам живёт в табличке ``features``\n",
    "\n",
    "Обратите внимание, что **rubrics_id** и **features_id** - это не списки, а разделённые пробелами строки. Когда вам захочется работать с отдельными фичами из мешка фичей для данного заведения, вам придётся всё-таки превратить их в списки (здесь поможет метод `split` для строк)."
   ]
  },
  {
   "cell_type": "markdown",
   "metadata": {
    "id": "J0IJIWz3GH64"
   },
   "source": [
    "Чтобы быстро восстанавливать по рубрикам и фичам их нормальные названия, сделайте словари вида ``код_фичи:название_фичи``"
   ]
  },
  {
   "cell_type": "code",
   "execution_count": 72,
   "metadata": {
    "id": "8KwKEKr7GH65"
   },
   "outputs": [],
   "source": [
    "rubric_dict = dict()\n",
    "index = 0\n",
    "while index < len(rubrics):\n",
    "    rubric_dict[rubrics[\"rubric_id\"][index]] = rubrics[\"rubric_name\"][index]\n",
    "    index += 1"
   ]
  },
  {
   "cell_type": "markdown",
   "metadata": {
    "id": "DNd4PkyQGH65"
   },
   "source": [
    "Посмотрим, какими бывают типы заведений:"
   ]
  },
  {
   "cell_type": "code",
   "execution_count": 73,
   "metadata": {
    "id": "8WhaPPEeGH65",
    "outputId": "aaf9cc8c-64ae-4bac-d8f8-6dd4d03033d8"
   },
   "outputs": [
    {
     "data": {
      "text/plain": [
       "{30519: 'Булочная, пекарня',\n",
       " 30770: 'Бар, паб',\n",
       " 30771: 'Быстрое питание',\n",
       " 30774: 'Кафе',\n",
       " 30775: 'Пиццерия',\n",
       " 30776: 'Ресторан',\n",
       " 30777: 'Столовая',\n",
       " 31286: 'Спортбар',\n",
       " 31350: 'Кондитерская',\n",
       " 31375: 'Суши-бар',\n",
       " 31401: 'Кальян-бар',\n",
       " 31495: 'Кофейня',\n",
       " 3108292683: 'Бар безалкогольных напитков',\n",
       " 3501514558: 'Фудкорт',\n",
       " 3501750896: 'Кофе с собой'}"
      ]
     },
     "execution_count": 73,
     "metadata": {},
     "output_type": "execute_result"
    }
   ],
   "source": [
    "rubric_dict"
   ]
  },
  {
   "cell_type": "markdown",
   "metadata": {
    "id": "qA6Bm_8EGH66"
   },
   "source": [
    "Мы что-то поняли про признаки, которыми нам предстоит пользоваться. Теперь время посмотреть на таргет. Вооружившись функциями ``hist`` и ``scatter`` из библиотеки ``matplotlib``, а также методом ``isna`` для pandas-таблиц разберитесь, какие значения принимают таргеты, есть ли там там выбросы, пропуски или ещё какие-то проблемы.\n",
    "\n",
    "&nbsp;\n",
    "\n",
    "<details>\n",
    "  <summary>Когда будете готовы, кликните сюда, чтобы посмотреть ответ</summary>\n",
    "    <ol>\n",
    "      <li>Среди таргетов довольно много пропусков;</li>\n",
    "      <li>Все таргеты - это числа, кратные 500;</li>\n",
    "      <li>Есть какие-то адские значения, превышающие 100 000 (видимо, выбросы);</li>\n",
    "      <li>В целом, число ресторанов с данным средним чеком быстро падает с ростом среднего чека. Для средних чеков, больших 2500, заведений уже совсем мало. Примерно у 2/3 заведений средний чек 500.</li>\n",
    "    </ol>\n",
    "</details>"
   ]
  },
  {
   "cell_type": "code",
   "execution_count": 206,
   "metadata": {
    "id": "f6bg-kmIGH66",
    "outputId": "69beeb66-b7aa-4905-bc73-59a6ab27edf3",
    "scrolled": true
   },
   "outputs": [
    {
     "data": {
      "text/plain": [
       "35561"
      ]
     },
     "execution_count": 206,
     "metadata": {},
     "output_type": "execute_result"
    }
   ],
   "source": [
    "len(data[data[\"average_bill\"].isna()])"
   ]
  },
  {
   "cell_type": "code",
   "execution_count": 4,
   "metadata": {},
   "outputs": [
    {
     "data": {
      "text/plain": [
       "(array([22329.,  5482.,  2696.,  1184.,   445.]),\n",
       " array([ 500.,  900., 1300., 1700., 2100., 2500.]),\n",
       " <BarContainer object of 5 artists>)"
      ]
     },
     "execution_count": 4,
     "metadata": {},
     "output_type": "execute_result"
    },
    {
     "data": {
      "image/png": "[encoded data removed]",
      "text/plain": [
       "<Figure size 640x480 with 1 Axes>"
      ]
     },
     "metadata": {},
     "output_type": "display_data"
    }
   ],
   "source": [
    "df = data[(data[\"average_bill\"].notna()) & (data[\"average_bill\"] <= 2500)]\n",
    "plt.hist(df[\"average_bill\"], bins=5)"
   ]
  },
  {
   "cell_type": "code",
   "execution_count": 204,
   "metadata": {},
   "outputs": [
    {
     "data": {
      "text/plain": [
       "<matplotlib.collections.PathCollection at 0x162633b7d10>"
      ]
     },
     "execution_count": 204,
     "metadata": {},
     "output_type": "execute_result"
    },
    {
     "data": {
      "image/png": "[encoded data removed]",
      "text/plain": [
       "<Figure size 640x480 with 1 Axes>"
      ]
     },
     "metadata": {},
     "output_type": "display_data"
    }
   ],
   "source": [
    "plt.scatter(data[\"rating\"], data[\"average_bill\"], c=\"red\")"
   ]
  },
  {
   "cell_type": "markdown",
   "metadata": {
    "id": "trfl5F_4GH66"
   },
   "source": [
    "**Базовая очистка данных**\n",
    "\n",
    "Раз есть треш, давайте чистить данные.\n",
    "\n",
    "С пропусками можно бороться по-разному (даже и с пропусками в таргете), но пока мы сделаем самую простую вещь: дропнем все заведения, для которых мы не знаем средний чек.\n",
    "\n",
    "Уберите из них все заведения, у которых средний чек неизвестен или превышает 2500. Пока есть опасение, что их слишком мало, чтобы мы смогли обучить на них что-нибудь.\n",
    "\n",
    "**3. Введите в Контест количество заведений, которое у вас получилось после очистки**.\n",
    "\n",
    "Дальше мы будем работать с очищенными данными."
   ]
  },
  {
   "cell_type": "code",
   "execution_count": 15,
   "metadata": {
    "id": "OxIkRsA1GH67"
   },
   "outputs": [
    {
     "data": {
      "text/plain": [
       "32136"
      ]
     },
     "execution_count": 15,
     "metadata": {},
     "output_type": "execute_result"
    }
   ],
   "source": [
    "len(df)"
   ]
  },
  {
   "cell_type": "markdown",
   "metadata": {
    "id": "GsNzGAp1GH67"
   },
   "source": [
    "**4. Посчитайте и введите в Контест разность между средними арифметическими average_bill в кафе Москвы и Санкт-Петербурга. Округлите ответ до целого.**\n",
    "\n",
    "&nbsp;\n",
    "\n",
    "<details>\n",
    "  <summary>Небольшая подсказка</summary>\n",
    "  Примените часто используемый метод groupby.\n",
    "</details>"
   ]
  },
  {
   "cell_type": "code",
   "execution_count": 9,
   "metadata": {
    "id": "gLdl3zVCGH67"
   },
   "outputs": [
    {
     "data": {
      "text/plain": [
       "116"
      ]
     },
     "execution_count": 9,
     "metadata": {},
     "output_type": "execute_result"
    }
   ],
   "source": [
    "msk_average_bill = df[df[\"city\"] == \"msk\"][\"average_bill\"]\n",
    "spb_average_bill = df[df[\"city\"] == \"spb\"][\"average_bill\"]\n",
    "diff = round(msk_average_bill.mean() - spb_average_bill.mean())\n",
    "diff"
   ]
  },
  {
   "cell_type": "markdown",
   "metadata": {
    "id": "Qncnmi8bGH7F"
   },
   "source": [
    "Давайте ещё немного поизучаем данные. Ответьте на вопросы:\n",
    "\n",
    "1. Есть ли разница между средними чеками в Москве и Санкт-Петербурге?\n",
    "2. Коррелирует ли средний чек с рейтингом?\n",
    "3. Есть ли разница в среднем чеке между ресторанами и пабами (см. соответствующие типы из ``rubrics``)?\n",
    "\n",
    "&nbsp;\n",
    "\n",
    "<details>\n",
    "  <summary>Когда будете готовы, кликните сюда, чтобы посмотреть ответ</summary>\n",
    "    <ol>\n",
    "      <li>В целом, да. Вы могли бы сравнить средние (в Москве больше) или медианы (они равны, потому что уж больно много где средний чек 500). Этого, конечно, мало для того, чтобы сделать вывод. Нужно проверять какие-то статические критерии, которые изучаются в курсе по статистике. Не будем останавливаться на этом подробно. Поскольку данные совсем не нормальные, никакой t-тест не сработает; мы бы предложили использовать критерий Манна-Уитни (см. википедию и функцию mannwhitneyu из библиотеки scipy.stats).</li>\n",
    "      <li>Какая-то корреляция между ними есть но уж больно неубедительная (рекомендуем построим на одном графике boxplot рейтинга по каждому значению среднего чека для визуализации). Конечно, дна становится меньше с ростом среднего чека, но, видимо, в предсказании это особо не используешь;</li>\n",
    "      <li>Несомненно, в ресторанах средний чек выше. Это и невооружённым глазом видно, и с помощью критерия Манна-Уитни можно проверить.</li>\n",
    "    </ol>\n",
    "</details>"
   ]
  },
  {
   "cell_type": "code",
   "execution_count": 12,
   "metadata": {},
   "outputs": [
    {
     "data": {
      "text/html": [
       "<div>\n",
       "<style scoped>\n",
       "    .dataframe tbody tr th:only-of-type {\n",
       "        vertical-align: middle;\n",
       "    }\n",
       "\n",
       "    .dataframe tbody tr th {\n",
       "        vertical-align: top;\n",
       "    }\n",
       "\n",
       "    .dataframe thead th {\n",
       "        text-align: right;\n",
       "    }\n",
       "</style>\n",
       "<table border=\"1\" class=\"dataframe\">\n",
       "  <thead>\n",
       "    <tr style=\"text-align: right;\">\n",
       "      <th></th>\n",
       "      <th>average_bill</th>\n",
       "    </tr>\n",
       "    <tr>\n",
       "      <th>city</th>\n",
       "      <th></th>\n",
       "    </tr>\n",
       "  </thead>\n",
       "  <tbody>\n",
       "    <tr>\n",
       "      <th>msk</th>\n",
       "      <td>792.887230</td>\n",
       "    </tr>\n",
       "    <tr>\n",
       "      <th>spb</th>\n",
       "      <td>676.449662</td>\n",
       "    </tr>\n",
       "  </tbody>\n",
       "</table>\n",
       "</div>"
      ],
      "text/plain": [
       "      average_bill\n",
       "city              \n",
       "msk     792.887230\n",
       "spb     676.449662"
      ]
     },
     "execution_count": 12,
     "metadata": {},
     "output_type": "execute_result"
    }
   ],
   "source": [
    "# визуализация разницы между средним чеком в мск и спб\n",
    "df[[\"city\", \"average_bill\"]].groupby(by=[\"city\"]).mean()"
   ]
  },
  {
   "cell_type": "code",
   "execution_count": 27,
   "metadata": {},
   "outputs": [
    {
     "data": {
      "image/png": "[encoded data removed]",
      "text/plain": [
       "<Figure size 640x480 with 1 Axes>"
      ]
     },
     "metadata": {},
     "output_type": "display_data"
    }
   ],
   "source": [
    "# визуализация зависимости среднего чека от рейтинга\n",
    "dataset = df[df[\"rating\"].notna()]\n",
    "x = dataset[\"rating\"].head(20)\n",
    "y = dataset[\"average_bill\"].head(20)\n",
    "\n",
    "plt.plot(x, y)\n",
    "plt.show()"
   ]
  },
  {
   "cell_type": "code",
   "execution_count": 92,
   "metadata": {},
   "outputs": [
    {
     "data": {
      "text/html": [
       "<div>\n",
       "<style scoped>\n",
       "    .dataframe tbody tr th:only-of-type {\n",
       "        vertical-align: middle;\n",
       "    }\n",
       "\n",
       "    .dataframe tbody tr th {\n",
       "        vertical-align: top;\n",
       "    }\n",
       "\n",
       "    .dataframe thead th {\n",
       "        text-align: right;\n",
       "    }\n",
       "</style>\n",
       "<table border=\"1\" class=\"dataframe\">\n",
       "  <thead>\n",
       "    <tr style=\"text-align: right;\">\n",
       "      <th></th>\n",
       "      <th>average_bill</th>\n",
       "    </tr>\n",
       "    <tr>\n",
       "      <th>rubrics_id</th>\n",
       "      <th></th>\n",
       "    </tr>\n",
       "  </thead>\n",
       "  <tbody>\n",
       "    <tr>\n",
       "      <th>30770</th>\n",
       "      <td>699.025974</td>\n",
       "    </tr>\n",
       "    <tr>\n",
       "      <th>30776</th>\n",
       "      <td>1253.508772</td>\n",
       "    </tr>\n",
       "  </tbody>\n",
       "</table>\n",
       "</div>"
      ],
      "text/plain": [
       "            average_bill\n",
       "rubrics_id              \n",
       "30770         699.025974\n",
       "30776        1253.508772"
      ]
     },
     "execution_count": 92,
     "metadata": {},
     "output_type": "execute_result"
    }
   ],
   "source": [
    "# разница средних чеков между барами и ресторанами\n",
    "bar_id = rubrics[rubrics[\"rubric_name\"] == \"Бар, паб\"][\"rubric_id\"].iloc[0]\n",
    "rest_id = rubrics[rubrics[\"rubric_name\"] == \"Ресторан\"][\"rubric_id\"].iloc[0]\n",
    "bar_average = df[(df[\"rubrics_id\"].notna()) & (df[\"rubrics_id\"] == str(bar_id))][\"average_bill\"].mean()\n",
    "rest_average = df[(df[\"rubrics_id\"].notna()) & (df[\"rubrics_id\"] == str(rest_id))][\"average_bill\"].mean()\n",
    "diff = abs(bar_average - rest_average)\n",
    "\n",
    "# визуализация\n",
    "dataset = df[(df[\"rubrics_id\"].notna()) & (df[\"rubrics_id\"].isin([str(bar_id), str(rest_id)]))]\n",
    "dataset[[\"average_bill\", \"rubrics_id\"]].groupby(by=[\"rubrics_id\"]).mean()"
   ]
  },
  {
   "cell_type": "markdown",
   "metadata": {
    "id": "ATY5075lGH7F"
   },
   "source": [
    "## Формулируем задачу"
   ]
  },
  {
   "cell_type": "markdown",
   "metadata": {
    "id": "znpEgJGIGH7F"
   },
   "source": [
    "Прежде, чем решать задачу, её надо сформулировать.\n",
    "\n",
    "**Вопрос первый**: это классификация или регрессия? Подумайте над этим.\n",
    "\n",
    "&nbsp;\n",
    "\n",
    "<details>\n",
    "  <summary>Когда будете готовы, кликните сюда, чтобы посмотреть ответ</summary>\n",
    "    Ответ не столь однозначен, как хотелось бы. С одной стороны, таргет принимает всего четыре значения, и потому это может быть классификацией с 4 классами. С другой стороны, таргеты - это не абстрактные \"треугольник\", \"круг\", \"квадрат\", а вещественные числа, и когда мы вместо 500 предсказываем 2500, это явно хуже, чем вместо 1500 предсказать 2000. В целом, задачу можно решать и так, и так; мы будем смотреть на метрики обеих задач.\n",
    "</details>"
   ]
  },
  {
   "cell_type": "markdown",
   "metadata": {
    "id": "aaVuazxsGH7G"
   },
   "source": [
    "**Вопрос второй**: какие метрики мы будем использовать для оценки качества решения? Какие метрики вы предложили бы для этой задачи как для задачи классификации? А для этой задачи, как для задачи регрессии?\n",
    "\n",
    "&nbsp;\n",
    "\n",
    "<details>\n",
    "  <summary>Когда будете готовы, кликните сюда, чтобы посмотреть ответ</summary>\n",
    "    \n",
    "    Начнём с классификации. Метрика accuracy не очень хороша из-за несбалансированности классов. Действительно, классификатор, который всегда говорит 500, будет иметь accuracy примерно 0.66, хотя это никак не отражает практическую ценность модели. Как мы увидим, самая большая проблема будет заключаться в том, чтобы научиться выделять заведения с большими чеками, а их меньше всего и в accuracy они вносят самый маленький вклад. Есть разные способы с этим бороться, один -- использовать sklearn.metrics.balanced_accuracy_score. Его идея, грубо говоря, в том, чтобы по каждому классу найти, какая доля объектов этого класса правильно классифицирована, а потом эти доли усреднить. Тогда у бессмысленного классификатора, который всем ставит 500, будет скор 1/5 (ведь классов 5), а чтобы получить прежние 2/3, нужно будет научиться в каждом классе правильно ставить хотя бы 2/3 меток.    \n",
    "    \n",
    "    Теперь что касается регрессии. Основых метрики две - MSE и MAE. Из первой стоит извлекать корень, чтобы получать интерпретируемые человеком значения, а вторая менее агрессивна к выбросам (впрочем, выбросов тут уже нет, мы их все выкинули). Без дополнительной информации не очень понятно, какую выбирать, можно брать любую. А выбирать надо: ведь даже банальные модели \"предсказывай всегда среднее\" и \"предсказывай всегда медиану\" будут по-разному ранжироваться этими метриками.\n",
    "    \n",
    "</details>"
   ]
  },
  {
   "cell_type": "markdown",
   "metadata": {
    "id": "vs-jkCj-GH7G"
   },
   "source": [
    "**Вопрос третий**: а не взять ли нам какую-нибудь более экзотическую метрику? Например, MAPE (определение в учебнике в главе про оценку качества моделей). А как вам такое соображение: допустим, заказчик говорит, что пользователи будут расстраиваться, только если мы завысили средний чек - так давайте поправим MSE или MAE, обнуляя те слагаемые, для которых предсказанный таргет меньше истинного. Вот это хорошая метрика или нет?\n",
    "\n",
    "&nbsp;\n",
    "\n",
    "<details>\n",
    "  <summary>Когда будете готовы, кликните сюда, чтобы посмотреть ответ</summary>\n",
    "    \n",
    "    Что касается MAPE, у нас нет тех проблем, с которой она борется. Вот если бы у нас были средние чеки от 500 до миллиона, мы бы столкнулись с ситуацией, что большие ошибки для больших чеков доминировали бы в сумме для MSE и MAE (500 вместо 1000 меркнет по сравнению с 500к вместо миллиона). Говоря поэтически, мы бы оптимизировали модель для миллионеров, забыв про простых трудяг. И было бы логично перейти от парадигмы \"ошибаемся на 500 рублей\" к парадигме \"ошибаемся на 50%\". Но у нас все таргеты примерно одного порядка, MAPE нам особо ни к чему.\n",
    "    \n",
    "    Вторая метрика коварна тем, что её можно \"накрутить\" безо всякой пользы для дела. А именно, модель, которая всегда предсказывает средний чек в миллион, была бы идеальна. Но все бы расстраивались и не ходили есть. Другое дело, что можно ввести разные веса для ошибок в большую и в меньшую сторону, но опять же - пока нет показаний к тому, что это нужно.\n",
    "    \n",
    "</details>"
   ]
  },
  {
   "cell_type": "markdown",
   "metadata": {
    "id": "VCjV_SoAGH7G"
   },
   "source": [
    "## Применяем ML"
   ]
  },
  {
   "cell_type": "markdown",
   "metadata": {
    "id": "lqkvcLSPGH7G"
   },
   "source": [
    "Теперь время разбить данные на обучающую и тестовую выборку. Делается это с помощью функции ``train_test_split`` из пакета ``sklearn``. При этом очень важно сделать две вещи:\n",
    "\n",
    "* Зафиксировать ``random_state=42`` (да, именно этот, а то ваши модели могут не зайти в Контест), чтобы всё, что мы делаем, было воспроизводимо (иначе от перезапуска к перезапуску числа могут меняться, и мы не будем понимать, из-за чего это происходит).\n",
    "* Сделать стратификацию по таргету. В противном случае у нас в трейне и тесте могут оказаться разные пропорции классов (обычно особенно страдают мало представленные классы), что неутешительно скажется на результате.\n",
    "\n",
    "**Обратите внимание**, что если вы побьёте выборку на train и test по-другому, ваши результаты могут не зайти в контест."
   ]
  },
  {
   "cell_type": "code",
   "execution_count": 5,
   "metadata": {
    "id": "AF2IVpOjGH7H"
   },
   "outputs": [],
   "source": [
    "clean_data = df\n",
    "clean_data_train, clean_data_test = train_test_split(\n",
    "    clean_data, stratify=clean_data['average_bill'], test_size=0.33, random_state=42)"
   ]
  },
  {
   "cell_type": "markdown",
   "metadata": {
    "id": "S161veFJGH7H"
   },
   "source": [
    "Теперь нам нужен **бейзлайн** - очень простая модель, с которой мы в дальнейшем будем сравниваться.\n",
    "\n",
    "Поскольку мы ещё не знаем никаких умных классов моделей, все модели мы будем писать руками. А именно, мы напишем две простых модели на основе ``sklearn.baseRegressorMixin`` и ``sklearn.base.ClassifierMixin`` (посмотрите примеры в документации sklearn и сделайте так же):\n",
    "\n",
    "* Модель для задачи регрессии, которая для всех заведений предсказывает одно число — среднее значение среднего чека;\n",
    "* Модель для задачи классификации, которая для всех заведений предсказывает один класс — самый частый класс (ироничным образом он в данном случае совпадает с медианой).\n",
    "\n",
    "**Важно!** Мы будем много раз повторять вам мантру о том, что **информация из тестовой выборки не должна протекать в процесс обучения**. Так вот, и среднее, и самый частый класс вы должны считать именно на обучающей выборке!\n",
    "\n",
    "**5 и 6. Напишите эти две модели и сдайте в Контест**. В процессе проверки модели будут и обучаться, и предсказывать.\n",
    "\n",
    "Заметим, что для этих моделей нам вообще не нужны какие-то \"фичи\"; мы работаем только с таргетом.\n",
    "\n",
    "У каждой модели есть (как минимум) два метода: `fit` (обучает модель по фичам `X` и таргету `y`) `predict` (предсказывает по фичам `X`)"
   ]
  },
  {
   "cell_type": "code",
   "execution_count": 6,
   "metadata": {
    "id": "lLz_sxtUGH7H"
   },
   "outputs": [],
   "source": [
    "from scipy.stats import mode\n",
    "\n",
    "from sklearn.base import RegressorMixin\n",
    "\n",
    "class MeanRegressor(RegressorMixin):\n",
    "    \n",
    "    def fit(self, X=None, y=None):\n",
    "        self.value = y.mean()\n",
    "\n",
    "    def predict(self, X=None):\n",
    "        return np.full(shape=X.shape[0], fill_value=self.value)\n",
    "\n",
    "from sklearn.base import ClassifierMixin\n",
    "\n",
    "class MostFrequentClassifier(ClassifierMixin):\n",
    "\n",
    "    def fit(self, X=None, y=None):\n",
    "        self.value = y.median()\n",
    "\n",
    "    def predict(self, X=None):\n",
    "        return np.full(shape=X.shape[0], fill_value=self.value)"
   ]
  },
  {
   "cell_type": "markdown",
   "metadata": {
    "id": "lo2pNhVoGH7I"
   },
   "source": [
    "Обучим наши модели"
   ]
  },
  {
   "cell_type": "code",
   "execution_count": 8,
   "metadata": {
    "id": "arXlaGnTGH7I"
   },
   "outputs": [
    {
     "data": {
      "text/plain": [
       "(10605, 6)"
      ]
     },
     "execution_count": 8,
     "metadata": {},
     "output_type": "execute_result"
    }
   ],
   "source": [
    "from sklearn.metrics import accuracy_score\n",
    "from sklearn.metrics import balanced_accuracy_score\n",
    "from sklearn.metrics import mean_squared_error\n",
    "\n",
    "reg = MeanRegressor()\n",
    "reg.fit(y=clean_data_train['average_bill'])\n",
    "\n",
    "clf = MostFrequentClassifier()\n",
    "clf.fit(y=clean_data_train['average_bill'])\n",
    "\n",
    "base_rmse = np.sqrt(mean_squared_error(clean_data_test[\"average_bill\"], reg.predict(clean_data_test)))\n",
    "base_balanced_score = balanced_accuracy_score(clean_data_test['average_bill'], clf.predict(clean_data_test))\n",
    "base_accuracy_score = accuracy_score(clean_data_test['average_bill'], clf.predict(clean_data_test))\n",
    "s = pd.Series(np.hstack([base_rmse, base_balanced_score, base_accuracy_score]),\n",
    "              index=[\"RMSE\", \"Balanced Accuracy Score\", \"Accuracy Score\"])\n",
    "s"
   ]
  },
  {
   "cell_type": "markdown",
   "metadata": {
    "id": "jJG8x0tmGH7I"
   },
   "source": [
    "Обучите модели и оцените их качество на тестовой выборке. В качестве метрик возьмём RMSE (``np.sqrt`` от ``sklearn.metrics.mean_squared_error``) и ``sklearn.metrics.balanced_accuracy_score``.\n",
    "\n",
    "Для регрессионной модели имеет смысл считать только RMSE (значения будут не кратны 500, точно мы угадывать не будем никогда), а вот для классификационной можно найти обе метрики. Сделайте это. Какая модель оказалась лучше по RMSE?"
   ]
  },
  {
   "cell_type": "markdown",
   "metadata": {
    "id": "kvZwp54sGH7J"
   },
   "source": [
    "<details>\n",
    "  <summary>Когда будете готовы, кликните сюда</summary>\n",
    "    \n",
    "  Казалось бы, регрессор никогда не угадывает, но он в каком-то смысле лучше классификатора - справедливо ли это? Возможно. Несуществующий пользователь модели вряд ли будет задавать вопросы \"почему средний чек не кратен 500?\" Ну, выдали около 800 - ок, понятно.\n",
    "    \n",
    "</details>"
   ]
  },
  {
   "cell_type": "markdown",
   "metadata": {
    "id": "V-1-O9GyGH7J"
   },
   "source": [
    "## Усложнение модели"
   ]
  },
  {
   "cell_type": "markdown",
   "metadata": {
    "id": "dGWgxl0VGH7J"
   },
   "source": [
    "Бейзлайны будут нашей отправной точкой. Строя дальнейшие модели, мы будем спрашивать себя: получилось ли лучше бейзлайна? Если нет или если не особо, то в чём смысл усложнения?"
   ]
  },
  {
   "cell_type": "markdown",
   "metadata": {
    "id": "9w3DkuuFGH7K"
   },
   "source": [
    "Начнём с использования фичи ``city``. Мы уже видели, что в разных городах и средние чеки разные. Легко проверить, что *медиана* средних чеков всё же одна и та же и в Москве, и в Санкт-Петербурге (ох уж этот вездесущий средний чек 500!), поэтому с классификатором мы ничего не сделаем. Но вот регрессор можно попробовать починить.\n",
    "\n",
    "**7. Напишите регрессор, для каждого заведения предсказывающий среднее значение в том же городе (на обучающей выборке, конечно) и сдайте его в Контест**. Вам может помочь то, что булевы `pandas` и `numpy` столбцы можно умножать на численные — в такой ситуации False работает, как ноль, а True как единица."
   ]
  },
  {
   "cell_type": "code",
   "execution_count": 9,
   "metadata": {
    "id": "ZULQVPe2GH7K"
   },
   "outputs": [],
   "source": [
    "from sklearn.base import RegressorMixin\n",
    "\n",
    "class CityMeanRegressor(RegressorMixin):\n",
    "    def fit(self, X=None, y=None):\n",
    "        self.msk_mean = y[y[\"city\"] == \"msk\"][\"average_bill\"].mean()\n",
    "        self.spb_mean = y[y[\"city\"] == \"spb\"][\"average_bill\"].mean()\n",
    "        self.array = list()\n",
    "\n",
    "    def predict(self, X=None):\n",
    "        for index, row in X.iterrows():\n",
    "            if row[\"city\"] == \"msk\":\n",
    "                self.array.append(self.msk_mean)\n",
    "            else:\n",
    "                self.array.append(self.spb_mean)\n",
    "        return self.array"
   ]
  },
  {
   "cell_type": "markdown",
   "metadata": {
    "id": "1EeFGk24GH7K"
   },
   "source": [
    "Обучите регрессор и сравните его по метрике RMSE с бейзлайнами. Получилось ли улучшить метрику?"
   ]
  },
  {
   "cell_type": "code",
   "execution_count": 10,
   "metadata": {},
   "outputs": [
    {
     "data": {
      "text/plain": [
       "BaseLine RMSE             448.714389\n",
       "CityMeanRegressor RMSE    445.106328\n",
       "dtype: float64"
      ]
     },
     "execution_count": 10,
     "metadata": {},
     "output_type": "execute_result"
    }
   ],
   "source": [
    "from sklearn.metrics import mean_squared_error\n",
    "\n",
    "reg = CityMeanRegressor()\n",
    "reg.fit(y=clean_data_train)\n",
    "city_mean_rmse = np.sqrt(mean_squared_error(clean_data_test[\"average_bill\"], reg.predict(clean_data_test)))\n",
    "s = pd.Series(np.hstack([base_rmse, city_mean_rmse]), index=[\"BaseLine RMSE\", \"CityMeanRegressor RMSE\"])\n",
    "s"
   ]
  },
  {
   "cell_type": "markdown",
   "metadata": {
    "id": "jROycei1GH7L"
   },
   "source": [
    "Лучше стало, но, правда, не очень сильно. В этот момент очень важно не просто радовать руководителя приростом в третьем знаке, но и думать о том, что происходит.\n",
    "\n",
    "Средний средний чек по Москве равен 793, в Санкт-Петербурге - 676, а в целом - 752 рубля. MSE, увы, не поможет вам ответить на вопрос, стало ли лучше пользователю, если вы ему вместо 752 рублей назвали 793. Здесь вскрывается весьма существенный порок MSE в этой задаче. Дело в том, что наш изначальный таргет делит заведения на некоторые \"ценовые категории\", и различие в средних чеках 500 и 1000 в самом деле существенно. Наверное, мы хотели бы как раз правильно предсказывать ценовые категории. Но MSE не очень помогает нам об этом судить. Дальше мы ещё подумаем, как это исправить.\n",
    "\n",
    "В любом случае, несмотря на улучшение метрики, мы пока не можем судить, стало ли по жизни лучше от усложнения модели."
   ]
  },
  {
   "cell_type": "markdown",
   "metadata": {
    "id": "wEQ9eOoWGH7L"
   },
   "source": [
    "Поручинившись немного, возьмём на вооружение другую идею. Давайте использовать типы заведений!\n",
    "\n",
    "Но с типами есть некоторая проблема: в столбце ``rubrics_id`` не всегда один идентификатор, часто их несколько, и всего комбинаций довольно много. Чтобы не возиться с малочисленными типами, давайте сольём их в один безликий ``other``.\n",
    "\n",
    "Итак, добавьте в обучающие и тестовые данные столбец ``modified_rubrics``, в котором будет то же, что и в ``rubrics_id``, если соответствующая комбинация рубрик содержит хотя бы 100 заведений из обучающей (!) выборки, и строка ``other`` в противном случае.\n",
    "\n",
    "Здесь вам поможет контейнер ``Counter`` из библиотеки ``collections``."
   ]
  },
  {
   "cell_type": "code",
   "execution_count": 11,
   "metadata": {
    "id": "uTVW5KkwGH7L"
   },
   "outputs": [],
   "source": [
    "from collections import Counter\n",
    "\n",
    "arr = list()\n",
    "cnt = Counter(df[\"rubrics_id\"])\n",
    "\n",
    "for index, row in df.iterrows():\n",
    "    if cnt[row[\"rubrics_id\"]] > 100:\n",
    "        arr.append(row[\"rubrics_id\"])\n",
    "    else:\n",
    "        arr.append(\"other\")\n",
    "df.insert(len(df.columns), \"modified_rubrics\", arr)"
   ]
  },
  {
   "cell_type": "markdown",
   "metadata": {
    "id": "nZXhpBjnGH7L"
   },
   "source": [
    "Теперь настало время написать могучий классификатор, который по заведению предсказывает медиану средних чеков среди тех в обучающей выборке, у которых с ним одинаковые `modified_rubrics` и город (вы спросите, почему медиану, а не самый частый -- спишем это на вдохновение; самый частый тоже можно брать - но медиана работает лучше).\n",
    "\n",
    "**8. Напишите классификатор и сдайте в Контест**."
   ]
  },
  {
   "cell_type": "code",
   "execution_count": 12,
   "metadata": {
    "id": "eTfcwh5dGH7M"
   },
   "outputs": [],
   "source": [
    "from sklearn.base import ClassifierMixin\n",
    "\n",
    "class MostFrequentClassifier(ClassifierMixin):\n",
    "\n",
    "    def fit(self, X=None, y=None):\n",
    "        self.msk_median = y[y[\"city\"] == \"msk\"][[\"average_bill\",\n",
    "                                              \"modified_rubrics\"]].groupby(by=[\"modified_rubrics\"]).median()\n",
    "        self.spb_median = y[y[\"city\"] == \"spb\"][[\"average_bill\",\n",
    "                                              \"modified_rubrics\"]].groupby(by=[\"modified_rubrics\"]).median()\n",
    "\n",
    "    def predict(self, X=None):\n",
    "        self.arr = list()\n",
    "        for index, row in X.iterrows():\n",
    "            if row[\"city\"] == \"msk\":\n",
    "                self.arr.append(self.msk_median.loc[row[\"modified_rubrics\"]][\"average_bill\"])\n",
    "            else:\n",
    "                self.arr.append(self.spb_median.loc[row[\"modified_rubrics\"]][\"average_bill\"])\n",
    "        return self.arr"
   ]
  },
  {
   "cell_type": "markdown",
   "metadata": {
    "id": "xbgjbwgkGH7M"
   },
   "source": [
    "Сравните обученный классификатор по метрикам RMSE и balanced_accuracy_score с нашими бейзлайнами. Получилось ли улучшить?"
   ]
  },
  {
   "cell_type": "code",
   "execution_count": 13,
   "metadata": {},
   "outputs": [
    {
     "data": {
      "text/plain": [
       "RMSE                                391.836787\n",
       "Balanced Accuracy Score               0.307331\n",
       "Accuracy Score                        0.709760\n",
       "BaseLine RMSE                       448.714389\n",
       "BaseLine balanced accuracy score      0.200000\n",
       "BaseLine accuracy score               0.694767\n",
       "dtype: float64"
      ]
     },
     "execution_count": 13,
     "metadata": {},
     "output_type": "execute_result"
    }
   ],
   "source": [
    "from sklearn.metrics import balanced_accuracy_score\n",
    "from sklearn.metrics import accuracy_score\n",
    "from sklearn.metrics import mean_squared_error\n",
    "\n",
    "clean_data = df\n",
    "clean_data_train, clean_data_test = train_test_split(\n",
    "    clean_data, stratify=clean_data['average_bill'], test_size=0.33, random_state=42)\n",
    "\n",
    "clf = MostFrequentClassifier()\n",
    "clf.fit(y=clean_data_train)\n",
    "\n",
    "most_freq_clf_rmse = np.sqrt(mean_squared_error(clean_data_test[\"average_bill\"], clf.predict(clean_data_test)))\n",
    "most_freq_clf_balanced_score = balanced_accuracy_score(clean_data_test[\"average_bill\"], clf.predict(clean_data_test))\n",
    "most_freq_clf_accuracy_score = accuracy_score(clean_data_test[\"average_bill\"], clf.predict(clean_data_test))\n",
    "s = pd.Series(np.hstack\n",
    "              ([most_freq_clf_rmse, most_freq_clf_balanced_score,\n",
    "                most_freq_clf_accuracy_score, base_rmse, base_balanced_score, base_accuracy_score]),\n",
    "              index=[\"RMSE\", \"Balanced Accuracy Score\", \"Accuracy Score\",\n",
    "                     \"BaseLine RMSE\", \"BaseLine balanced accuracy score\", \"BaseLine accuracy score\"])\n",
    "s"
   ]
  },
  {
   "cell_type": "markdown",
   "metadata": {
    "id": "UMjsnCnQGH7M"
   },
   "source": [
    "Обратите внимание что рост accuracy по сравнению с бейзлайном при этом на порядок меньше:"
   ]
  },
  {
   "cell_type": "markdown",
   "metadata": {
    "id": "K2cF0I-CGH7M"
   },
   "source": [
    "accuracy_score\n",
    "\n",
    "Predict most frequent:  0.6947666195190948\n",
    "\n",
    "Predict by rubric and city:  0.7095709570957096"
   ]
  },
  {
   "cell_type": "markdown",
   "metadata": {
    "id": "ylrAIjCcGH7N"
   },
   "source": [
    "Для диагностики напечатайте для каждого класса тестовой выборки, сколько в нём объектов и скольким из них наш классификатор приписал правильный класс. Что вы видите?\n",
    "\n",
    "&nbsp;\n",
    "\n",
    "<details>\n",
    "  <summary>Когда будете готовы, кликните сюда, чтобы посмотреть ответ</summary>\n",
    "    \n",
    "  Вы, вероятно, видите то, что мы стали однозначно лучше по сравнению с бейзлайном детектировать средний чек 1000 и 1500 (хотя всё равно не очень хорошо + ценой ухудшения качества на среднем чеке 500), а вот чеки 2000 и 2500 нам ну никак не даются.\n",
    "    \n",
    "</details>"
   ]
  },
  {
   "cell_type": "code",
   "execution_count": 14,
   "metadata": {},
   "outputs": [],
   "source": [
    "pred_array = clf.predict(clean_data_test)\n",
    "predicted = list()\n",
    "index = 0\n",
    "for pred in pred_array:\n",
    "    if clean_data_test[\"average_bill\"].iloc[index] == pred:\n",
    "        predicted.append(1)\n",
    "        index += 1\n",
    "    else:\n",
    "        predicted.append(0)\n",
    "        index += 1 \n",
    "clean_data_test.insert(len(clean_data_test.columns), \"predicted\", predicted)"
   ]
  },
  {
   "cell_type": "code",
   "execution_count": 15,
   "metadata": {},
   "outputs": [
    {
     "data": {
      "text/html": [
       "<div>\n",
       "<style scoped>\n",
       "    .dataframe tbody tr th:only-of-type {\n",
       "        vertical-align: middle;\n",
       "    }\n",
       "\n",
       "    .dataframe tbody tr th {\n",
       "        vertical-align: top;\n",
       "    }\n",
       "\n",
       "    .dataframe thead th {\n",
       "        text-align: right;\n",
       "    }\n",
       "</style>\n",
       "<table border=\"1\" class=\"dataframe\">\n",
       "  <thead>\n",
       "    <tr style=\"text-align: right;\">\n",
       "      <th></th>\n",
       "      <th>org_id</th>\n",
       "    </tr>\n",
       "    <tr>\n",
       "      <th>average_bill</th>\n",
       "      <th></th>\n",
       "    </tr>\n",
       "  </thead>\n",
       "  <tbody>\n",
       "    <tr>\n",
       "      <th>500.0</th>\n",
       "      <td>7368</td>\n",
       "    </tr>\n",
       "    <tr>\n",
       "      <th>1000.0</th>\n",
       "      <td>1809</td>\n",
       "    </tr>\n",
       "    <tr>\n",
       "      <th>1500.0</th>\n",
       "      <td>890</td>\n",
       "    </tr>\n",
       "    <tr>\n",
       "      <th>2000.0</th>\n",
       "      <td>391</td>\n",
       "    </tr>\n",
       "    <tr>\n",
       "      <th>2500.0</th>\n",
       "      <td>147</td>\n",
       "    </tr>\n",
       "  </tbody>\n",
       "</table>\n",
       "</div>"
      ],
      "text/plain": [
       "              org_id\n",
       "average_bill        \n",
       "500.0           7368\n",
       "1000.0          1809\n",
       "1500.0           890\n",
       "2000.0           391\n",
       "2500.0           147"
      ]
     },
     "execution_count": 15,
     "metadata": {},
     "output_type": "execute_result"
    }
   ],
   "source": [
    "# количество заведений по каждому классу\n",
    "clean_data_test[[\"average_bill\", \"org_id\"]].groupby([\"average_bill\"]).count()"
   ]
  },
  {
   "cell_type": "code",
   "execution_count": 16,
   "metadata": {},
   "outputs": [
    {
     "data": {
      "text/html": [
       "<div>\n",
       "<style scoped>\n",
       "    .dataframe tbody tr th:only-of-type {\n",
       "        vertical-align: middle;\n",
       "    }\n",
       "\n",
       "    .dataframe tbody tr th {\n",
       "        vertical-align: top;\n",
       "    }\n",
       "\n",
       "    .dataframe thead th {\n",
       "        text-align: right;\n",
       "    }\n",
       "</style>\n",
       "<table border=\"1\" class=\"dataframe\">\n",
       "  <thead>\n",
       "    <tr style=\"text-align: right;\">\n",
       "      <th></th>\n",
       "      <th>predicted</th>\n",
       "    </tr>\n",
       "    <tr>\n",
       "      <th>average_bill</th>\n",
       "      <th></th>\n",
       "    </tr>\n",
       "  </thead>\n",
       "  <tbody>\n",
       "    <tr>\n",
       "      <th>500.0</th>\n",
       "      <td>6589</td>\n",
       "    </tr>\n",
       "    <tr>\n",
       "      <th>1000.0</th>\n",
       "      <td>721</td>\n",
       "    </tr>\n",
       "    <tr>\n",
       "      <th>1500.0</th>\n",
       "      <td>217</td>\n",
       "    </tr>\n",
       "    <tr>\n",
       "      <th>2000.0</th>\n",
       "      <td>0</td>\n",
       "    </tr>\n",
       "    <tr>\n",
       "      <th>2500.0</th>\n",
       "      <td>0</td>\n",
       "    </tr>\n",
       "  </tbody>\n",
       "</table>\n",
       "</div>"
      ],
      "text/plain": [
       "              predicted\n",
       "average_bill           \n",
       "500.0              6589\n",
       "1000.0              721\n",
       "1500.0              217\n",
       "2000.0                0\n",
       "2500.0                0"
      ]
     },
     "execution_count": 16,
     "metadata": {},
     "output_type": "execute_result"
    }
   ],
   "source": [
    "# количество правильно предсказанных заведений по каждому классу\n",
    "clean_data_test[[\"average_bill\", \"predicted\"]].groupby([\"average_bill\"]).sum()"
   ]
  },
  {
   "cell_type": "markdown",
   "metadata": {
    "id": "9ScOy7ZvGH7N"
   },
   "source": [
    "**Кстати**. А вы понимаете, почему приведённый выше пайплайн классификации был не очень удачным с точки зрения архитектуры? Почему его было бы правильнее воплотить по-другому?\n",
    "\n",
    "&nbsp;\n",
    "\n",
    "<details>\n",
    "  <summary>Когда будете готовы, кликните сюда, чтобы посмотреть ответ</summary>\n",
    "Собственно говоря, и не было никакого пайплайна. К счастью, у нас была одна обучающая выборка, мы на ней посчитали список рубрик для modified_rubrics и радовались жизни. Но если бы нам надо было переобучать всё на новых данных, пришлось бы помнить, что их надо везде пересчитать (ведь у нас могли появиться новые рубрики с хотя бы 100 представителями). А уж никакую кросс-валидацию (кто знает - тот поймёт) с нашим подходом к делу и вовсе бы не получилось сделать без боли.\n",
    "    \n",
    "Поэтому в следующей лабораторной вы научитесь делать честные пайплайны, в которых преобразование данных, генерация фичей и обучение классификатора будут объединены в один понятный процесс, происходящий на этапе fit.\n",
    "</details>"
   ]
  },
  {
   "cell_type": "markdown",
   "metadata": {
    "id": "4ujl3tbbGH7N"
   },
   "source": [
    "## Слишком простые и слишком сложные модели"
   ]
  },
  {
   "cell_type": "markdown",
   "metadata": {
    "id": "QF7McCHsGH7N"
   },
   "source": [
    "Бейзлайны у нас слишком просты и потому не очень полезны в жизни. Но если сложность модели растёт бесконтрольно, то тоже получается плохо.\n",
    "\n",
    "Давайте рассмотрим конкретный пример. Создадим классификатор, использующий одновременно `rubrics_id` и `features_id`.\n",
    "\n",
    "Сделайте следующее:\n",
    "\n",
    "- для каждого объекта обучающей выборки сконкатенируйте строку `rubrics_id` с разделителем (например, буквой 'q') и содержимым `features_id`. Полученный столбец озаглавьте `modified_features`. Это не самый клёвый способ заиспользовать все фичи, но сейчас пока сойдёт. Причём на сей раз не будем выкидывать мало представленные значения (вся информация важна, не так ли?).\n",
    "- при этом для тестовой выборке заменяйте на строку `other` все конкатенации, которые не встретились в обучающей выборке.\n",
    "\n",
    "То есть элементы в этом столбце будут иметь вид `other` или `30776 30774 q 3502045032 11741 3502045016 1046...`."
   ]
  },
  {
   "cell_type": "code",
   "execution_count": 5,
   "metadata": {},
   "outputs": [],
   "source": [
    "clean_data = df\n",
    "modified_features = list()\n",
    "for index, row in clean_data.iterrows():\n",
    "    modified_features.append(row[\"rubrics_id\"] + \" q \" + row[\"features_id\"])\n",
    "clean_data.insert(len(clean_data.columns), \"modified_features\", modified_features)"
   ]
  },
  {
   "cell_type": "code",
   "execution_count": 7,
   "metadata": {},
   "outputs": [],
   "source": [
    "clean_data_train, clean_data_test = train_test_split(\n",
    "    clean_data, stratify=clean_data['average_bill'], test_size=0.33, random_state=42)"
   ]
  },
  {
   "cell_type": "code",
   "execution_count": 13,
   "metadata": {},
   "outputs": [
    {
     "data": {
      "text/html": [
       "<div>\n",
       "<style scoped>\n",
       "    .dataframe tbody tr th:only-of-type {\n",
       "        vertical-align: middle;\n",
       "    }\n",
       "\n",
       "    .dataframe tbody tr th {\n",
       "        vertical-align: top;\n",
       "    }\n",
       "\n",
       "    .dataframe thead th {\n",
       "        text-align: right;\n",
       "    }\n",
       "</style>\n",
       "<table border=\"1\" class=\"dataframe\">\n",
       "  <thead>\n",
       "    <tr style=\"text-align: right;\">\n",
       "      <th></th>\n",
       "      <th>org_id</th>\n",
       "      <th>city</th>\n",
       "      <th>average_bill</th>\n",
       "      <th>rating</th>\n",
       "      <th>rubrics_id</th>\n",
       "      <th>features_id</th>\n",
       "      <th>modified_features</th>\n",
       "    </tr>\n",
       "  </thead>\n",
       "  <tbody>\n",
       "    <tr>\n",
       "      <th>65841</th>\n",
       "      <td>14385912302763770021</td>\n",
       "      <td>spb</td>\n",
       "      <td>1000.0</td>\n",
       "      <td>4.748444</td>\n",
       "      <td>30776 30770 31401</td>\n",
       "      <td>11177 3501618484 10462 3501481355 1509 1416 20...</td>\n",
       "      <td>other</td>\n",
       "    </tr>\n",
       "    <tr>\n",
       "      <th>48882</th>\n",
       "      <td>16695436192794975203</td>\n",
       "      <td>msk</td>\n",
       "      <td>500.0</td>\n",
       "      <td>3.793758</td>\n",
       "      <td>30771</td>\n",
       "      <td>3501744275 273469383 3501513153 11617 10462 11...</td>\n",
       "      <td>other</td>\n",
       "    </tr>\n",
       "    <tr>\n",
       "      <th>33711</th>\n",
       "      <td>11841431940065207518</td>\n",
       "      <td>msk</td>\n",
       "      <td>500.0</td>\n",
       "      <td>3.606557</td>\n",
       "      <td>30771 30777</td>\n",
       "      <td>3501773763 3501744275 3501773764 3501618484 15...</td>\n",
       "      <td>other</td>\n",
       "    </tr>\n",
       "    <tr>\n",
       "      <th>33544</th>\n",
       "      <td>16028521499441205186</td>\n",
       "      <td>msk</td>\n",
       "      <td>2000.0</td>\n",
       "      <td>4.683841</td>\n",
       "      <td>30776</td>\n",
       "      <td>3501618484 20422 1082283206 11704 11629 21247 ...</td>\n",
       "      <td>other</td>\n",
       "    </tr>\n",
       "    <tr>\n",
       "      <th>35293</th>\n",
       "      <td>12477116204055673498</td>\n",
       "      <td>spb</td>\n",
       "      <td>500.0</td>\n",
       "      <td>4.165394</td>\n",
       "      <td>30776 31401 30770</td>\n",
       "      <td>1524 246 11704 1018 3501618484 2020795524 2124...</td>\n",
       "      <td>other</td>\n",
       "    </tr>\n",
       "    <tr>\n",
       "      <th>...</th>\n",
       "      <td>...</td>\n",
       "      <td>...</td>\n",
       "      <td>...</td>\n",
       "      <td>...</td>\n",
       "      <td>...</td>\n",
       "      <td>...</td>\n",
       "      <td>...</td>\n",
       "    </tr>\n",
       "    <tr>\n",
       "      <th>55337</th>\n",
       "      <td>9041226080397910513</td>\n",
       "      <td>msk</td>\n",
       "      <td>2500.0</td>\n",
       "      <td>4.408108</td>\n",
       "      <td>30776</td>\n",
       "      <td>11629 11704 10462 11617 3501744275 20424 35017...</td>\n",
       "      <td>other</td>\n",
       "    </tr>\n",
       "    <tr>\n",
       "      <th>64048</th>\n",
       "      <td>14998683880343589209</td>\n",
       "      <td>msk</td>\n",
       "      <td>1000.0</td>\n",
       "      <td>3.555556</td>\n",
       "      <td>30776</td>\n",
       "      <td>273469383 20424 20422 246 1416 11867 11629 104...</td>\n",
       "      <td>other</td>\n",
       "    </tr>\n",
       "    <tr>\n",
       "      <th>22010</th>\n",
       "      <td>1621254442333414922</td>\n",
       "      <td>msk</td>\n",
       "      <td>2000.0</td>\n",
       "      <td>4.402516</td>\n",
       "      <td>30776</td>\n",
       "      <td>273469383 21247 11867 1082283206 20422 246 101...</td>\n",
       "      <td>other</td>\n",
       "    </tr>\n",
       "    <tr>\n",
       "      <th>40089</th>\n",
       "      <td>5620614742257813954</td>\n",
       "      <td>msk</td>\n",
       "      <td>500.0</td>\n",
       "      <td>NaN</td>\n",
       "      <td>30771</td>\n",
       "      <td>11704 1018 273469383 10462 20422</td>\n",
       "      <td>30771 q 11704 1018 273469383 10462 20422</td>\n",
       "    </tr>\n",
       "    <tr>\n",
       "      <th>32180</th>\n",
       "      <td>11624301828012509826</td>\n",
       "      <td>spb</td>\n",
       "      <td>500.0</td>\n",
       "      <td>4.250000</td>\n",
       "      <td>30774</td>\n",
       "      <td>246 11867 1018 1415 1416 1524 10462 1509 11617...</td>\n",
       "      <td>other</td>\n",
       "    </tr>\n",
       "  </tbody>\n",
       "</table>\n",
       "<p>10605 rows × 7 columns</p>\n",
       "</div>"
      ],
      "text/plain": [
       "                     org_id city  average_bill    rating         rubrics_id  \\\n",
       "65841  14385912302763770021  spb        1000.0  4.748444  30776 30770 31401   \n",
       "48882  16695436192794975203  msk         500.0  3.793758              30771   \n",
       "33711  11841431940065207518  msk         500.0  3.606557        30771 30777   \n",
       "33544  16028521499441205186  msk        2000.0  4.683841              30776   \n",
       "35293  12477116204055673498  spb         500.0  4.165394  30776 31401 30770   \n",
       "...                     ...  ...           ...       ...                ...   \n",
       "55337   9041226080397910513  msk        2500.0  4.408108              30776   \n",
       "64048  14998683880343589209  msk        1000.0  3.555556              30776   \n",
       "22010   1621254442333414922  msk        2000.0  4.402516              30776   \n",
       "40089   5620614742257813954  msk         500.0       NaN              30771   \n",
       "32180  11624301828012509826  spb         500.0  4.250000              30774   \n",
       "\n",
       "                                             features_id  \\\n",
       "65841  11177 3501618484 10462 3501481355 1509 1416 20...   \n",
       "48882  3501744275 273469383 3501513153 11617 10462 11...   \n",
       "33711  3501773763 3501744275 3501773764 3501618484 15...   \n",
       "33544  3501618484 20422 1082283206 11704 11629 21247 ...   \n",
       "35293  1524 246 11704 1018 3501618484 2020795524 2124...   \n",
       "...                                                  ...   \n",
       "55337  11629 11704 10462 11617 3501744275 20424 35017...   \n",
       "64048  273469383 20424 20422 246 1416 11867 11629 104...   \n",
       "22010  273469383 21247 11867 1082283206 20422 246 101...   \n",
       "40089                   11704 1018 273469383 10462 20422   \n",
       "32180  246 11867 1018 1415 1416 1524 10462 1509 11617...   \n",
       "\n",
       "                              modified_features  \n",
       "65841                                     other  \n",
       "48882                                     other  \n",
       "33711                                     other  \n",
       "33544                                     other  \n",
       "35293                                     other  \n",
       "...                                         ...  \n",
       "55337                                     other  \n",
       "64048                                     other  \n",
       "22010                                     other  \n",
       "40089  30771 q 11704 1018 273469383 10462 20422  \n",
       "32180                                     other  \n",
       "\n",
       "[10605 rows x 7 columns]"
      ]
     },
     "execution_count": 13,
     "metadata": {},
     "output_type": "execute_result"
    }
   ],
   "source": [
    "clean_data_test[\"modified_features\"] = np.where(clean_data_test[\"modified_features\"]\n",
    "                                                .isin(clean_data_train[\"modified_features\"]),\n",
    "                                                clean_data_test[\"modified_features\"], \"other\")"
   ]
  },
  {
   "cell_type": "markdown",
   "metadata": {
    "id": "e8tNBPzVGH7O"
   },
   "source": [
    "Теперь обучите классификатор, который для заведения предсказывает медиану среднего чека по всем объектам тестовой выборки с таким же, как у него, значением `modified_features`, а если такого в обучающей выборке нет, то глобальную медиану среднего чека по всей обучающей выборке.\n",
    "\n",
    "**9. Загрузите в Контест предсказания этого классификатора на тестовой выборке**\n",
    "\n",
    "Мы ждём файла **.csv**, у которого в каждой строке будет только одно число - предсказание классификатора.\n",
    "\n",
    "Возможно, вам будет полезна библиотека ``tqdm``, позволяющая отслеживать в реальном времени, сколько времени уже крутится цикл и сколько итераций ещё осталось. Впрочем, если вы всё написали нормально, то должно работать не очень долго."
   ]
  },
  {
   "cell_type": "code",
   "execution_count": 44,
   "metadata": {},
   "outputs": [],
   "source": [
    "from sklearn.base import ClassifierMixin\n",
    "\n",
    "class MostFrequentClassifier(ClassifierMixin):\n",
    "\n",
    "    def fit(self, X=None, y=None):\n",
    "        self.global_median = y[\"average_bill\"].median()\n",
    "        self.feat_median = y[[\"average_bill\", \"modified_features\"]].groupby([\"modified_features\"]).median()\n",
    "        \n",
    "    def predict(self, X=None):\n",
    "        predicted = list()\n",
    "        for index, row in X.iterrows():\n",
    "            if row[\"modified_features\"] == \"other\":\n",
    "                predicted.append(str(index) + \",\" + str(self.global_median))\n",
    "            else:\n",
    "                predicted.append(str(index) + \",\" + str(self.feat_median.loc[row[\"modified_features\"]][\"average_bill\"]))\n",
    "        return predicted"
   ]
  },
  {
   "cell_type": "code",
   "execution_count": 59,
   "metadata": {},
   "outputs": [],
   "source": [
    "clf = MostFrequentClassifier()\n",
    "clf.fit(y=clean_data_train)\n",
    "\n",
    "pred_test = pd.Series(clf.predict(clean_data_test))\n",
    "pred_train = pd.Series(clf.predict(clean_data_train))"
   ]
  },
  {
   "cell_type": "code",
   "execution_count": 20,
   "metadata": {},
   "outputs": [],
   "source": [
    "pred_test.to_csv(\"my_file.csv\", index=False)"
   ]
  },
  {
   "cell_type": "markdown",
   "metadata": {
    "id": "_XrswPW4GH7O"
   },
   "source": [
    "Модель, очевидно, очень сложная. Число параметров (различных категорий) в ней сопоставимо с числом объектов в обучающей выборке. А получилось ли хорошо?\n",
    "\n",
    "Давайте посчитаем RMSE и balanced_accuracy_score на обучающей и на тестовой выборках.\n",
    "\n",
    "**10. Введите их в Контест**"
   ]
  },
  {
   "cell_type": "code",
   "execution_count": 62,
   "metadata": {},
   "outputs": [
    {
     "name": "stderr",
     "output_type": "stream",
     "text": [
      "C:\\Anaconda3\\Lib\\site-packages\\sklearn\\metrics\\_classification.py:2184: UserWarning: y_pred contains classes not in y_true\n",
      "  warnings.warn(\"y_pred contains classes not in y_true\")\n"
     ]
    },
    {
     "data": {
      "text/plain": [
       "RMSE                       513.989811\n",
       "Balanced accuracy score      0.201025\n",
       "Accuracy score               0.693446\n",
       "dtype: float64"
      ]
     },
     "execution_count": 62,
     "metadata": {},
     "output_type": "execute_result"
    }
   ],
   "source": [
    "from sklearn.metrics import balanced_accuracy_score, mean_squared_error, accuracy_score\n",
    "\n",
    "pred = list()\n",
    "for string in pred_test:\n",
    "    pred.append(float(string.split(\",\")[1]))\n",
    "\n",
    "rmse = np.sqrt(mean_squared_error(clean_data_test[\"average_bill\"], pred))\n",
    "balanced_score = balanced_accuracy_score(clean_data_test[\"average_bill\"], pred)\n",
    "a_score = accuracy_score(clean_data_test[\"average_bill\"], pred)\n",
    "s = pd.Series([rmse, balanced_score, a_score], index=[\"RMSE\", \"Balanced accuracy score\", \"Accuracy score\"])\n",
    "\n",
    "s"
   ]
  },
  {
   "cell_type": "code",
   "execution_count": 63,
   "metadata": {},
   "outputs": [
    {
     "name": "stderr",
     "output_type": "stream",
     "text": [
      "C:\\Anaconda3\\Lib\\site-packages\\sklearn\\metrics\\_classification.py:2184: UserWarning: y_pred contains classes not in y_true\n",
      "  warnings.warn(\"y_pred contains classes not in y_true\")\n"
     ]
    },
    {
     "data": {
      "text/plain": [
       "RMSE                       32.416207\n",
       "Balanced accuracy score     0.993193\n",
       "Accuracy score              0.996192\n",
       "dtype: float64"
      ]
     },
     "execution_count": 63,
     "metadata": {},
     "output_type": "execute_result"
    }
   ],
   "source": [
    "pred = list()\n",
    "\n",
    "for string in pred_train:\n",
    "    pred.append(float(string.split(\",\")[1]))\n",
    "\n",
    "rmse = np.sqrt(mean_squared_error(clean_data_train[\"average_bill\"], pred))\n",
    "balanced_score = balanced_accuracy_score(clean_data_train[\"average_bill\"], pred)\n",
    "a_score = accuracy_score(clean_data_train[\"average_bill\"], pred)\n",
    "s = pd.Series([rmse, balanced_score, a_score], index=[\"RMSE\", \"Balanced accuracy score\", \"Accuracy score\"])\n",
    "\n",
    "s"
   ]
  },
  {
   "cell_type": "markdown",
   "metadata": {
    "id": "fGDTpxFgGH7O"
   },
   "source": [
    "Налицо переобучение: на трейне метрики отличные, на тесте - вообще никакие\n",
    "\n",
    "В общем, не гонитесь за чрезмерной сложностью модели.."
   ]
  },
  {
   "cell_type": "markdown",
   "metadata": {
    "id": "YTU2yubYGH7O"
   },
   "source": [
    "## ML без данных что компутер без электричества"
   ]
  },
  {
   "cell_type": "markdown",
   "metadata": {
    "id": "DBVOCVf2GH7P"
   },
   "source": [
    "Возможно, вы смотрите на полученные выше результаты и думаете: вот если бы мы не какие-то убогие медианы предсказывали, а гоняли бы нейросети, то тут-то бы всё и получилось!\n",
    "\n",
    "Но, увы, совсем даже не всегда от счастья нас отделяет выбор хорошей модели (и стратегии обучения). Если данные не очень, то даже самая крутая модель не сработает. В этой ситуации нужно либо добывать новые фичи каким-то образом, либо собирать новые данные (увеличивать датасет), либо просто бросать задачу.\n",
    "\n",
    "Давайте посмотрим, что выжмет из наших данных одна из самых мощных моделей для табличных данных - градиентный бустинг на решающих деревьях в исполнении [CatBoost](https://catboost.ai/)."
   ]
  },
  {
   "cell_type": "markdown",
   "metadata": {
    "id": "a0L4UmzSGH7P"
   },
   "source": [
    "Но прежде, чем сделать fit, нам надо облагородить данные. Несмотря на то, что CatBoost отлично работает с категориальными фичами, мешок признаков из `rubrics_id` или `features_id` может ему оказаться не по зубам. Поэтому мы соберём датасет в пристойную матрицу, создав для каждого типа рубрик и фичей отдельный столбец и записав там единицы для тех объектов, у которых эта рубрика или фича имеет место.\n",
    "\n",
    "В матрице почти все элементы будут нулями. Такие матрицы считаются **разреженными** и их можно хранить гораздо эффективней, чем просто таблицей. Этим и займёмся)"
   ]
  },
  {
   "cell_type": "markdown",
   "metadata": {
    "id": "IJKuMtNbGH7P"
   },
   "source": [
    "Есть несколько форматов хранения разреженных матриц (многие из них реализованы в [пакете sparse библиотеки scipy](https://docs.scipy.org/doc/scipy/reference/sparse.html)), и каждый пригоден для чего-то своего.\n",
    "\n",
    "Создавать разреженную матрицу лучше в [формате COO](https://docs.scipy.org/doc/scipy/reference/generated/scipy.sparse.coo_array.html#scipy.sparse.coo_array). Он предполагает, что разреженная матрица задаётся в виде трёх списков: `row`, `col`, `data`, причём каждая тройка `(row[i], col[i], data[i])` кодирует элемент со значением `data[i]`, стоящий на позиции `(row[i], col[i])`. Считается, что на позициях `(row, col)`, которые ни разу не встретились, стоят нули.\n",
    "\n",
    "Нетрудно видеть, что заполнять такую матрицу - одно удовольствие, и особенно этому помогает тот факт, что **пара `(row, col)` может встретиться несколько раз** (тогда в итоговой матрице на соответствующей позиции стоит сумма соответствующих `data[i]`). Но, с другой стороны, почти ничего другого с такой матрицей не сделаешь: произвольного доступа к элементам она не предоставляет, умножить её тоже особо ничего не умножишь. Поэтому для дальнейшего использования созданную таким образом матрицу преобразуют в один из более удобных форматов, например, [CSR (compressed sparse row)](https://scipy-lectures.org/advanced/scipy_sparse/csr_matrix.html). Он, к примеру, хорошо подходит для умножения на вектор (потому что матрица хранится по строкам). Не будем разбирать его подробно, но можете почитать по ссылке, если интересно."
   ]
  },
  {
   "cell_type": "markdown",
   "metadata": {
    "id": "2hd_Sob3GH7P"
   },
   "source": [
    "Вам нужно будет превратить обучающие и тестовые данные в разреженные матрицы `sparse_data_train` и `sparse_data_test` соответственно, таким образом, что:\n",
    "\n",
    "- столбец `city` превратится в столбец из единиц и нулей (например, 1 - Москва, 0 - Питер);\n",
    "- столбец `rating` перекочует в разреженные матрицы без изменений;\n",
    "- каждый типы рубрик и каждая фича превратятся в отдельный 0-1-принак;\n",
    "\n",
    "В тестовой выборке будут фичи, которых в обучающей выборке не было. С ними можно по-разному работать, но давайте создадим дополнительную фантомную фичу `feature_other`, в которой будет то, сколько неизвестных по обучающей выборке фичей есть у данного объекта."
   ]
  },
  {
   "cell_type": "markdown",
   "metadata": {
    "id": "lFfj-1E4GH7Q"
   },
   "source": [
    "Данные готовы, и теперь можно запустить катбуст"
   ]
  },
  {
   "cell_type": "code",
   "execution_count": null,
   "metadata": {
    "id": "m2lP5NouGH7Q"
   },
   "outputs": [],
   "source": [
    "from catboost import CatBoostClassifier"
   ]
  },
  {
   "cell_type": "code",
   "execution_count": null,
   "metadata": {
    "id": "jpW6uR0oGH7Q"
   },
   "outputs": [],
   "source": [
    "# <USE IT!>\n",
    "clf = CatBoostClassifier()\n",
    "clf.fit(sparse_data_train, clean_data_train['average_bill'])"
   ]
  },
  {
   "cell_type": "markdown",
   "metadata": {
    "id": "SBOpZY9BGH7Q"
   },
   "source": [
    "**11. Пришлите в Контест balanced_accuracy_score на тестовой выборке, округлённый до двух знаков после запятой**. Стало ли сильно лучше от того, что мы воспользовались таким крутым классификатором?"
   ]
  }
 ],
 "metadata": {
  "colab": {
   "provenance": []
  },
  "kernelspec": {
   "display_name": "Python 3 (ipykernel)",
   "language": "python",
   "name": "python3"
  },
  "language_info": {
   "codemirror_mode": {
    "name": "ipython",
    "version": 3
   },
   "file_extension": ".py",
   "mimetype": "text/x-python",
   "name": "python",
   "nbconvert_exporter": "python",
   "pygments_lexer": "ipython3",
   "version": "3.11.7"
  }
 },
 "nbformat": 4,
 "nbformat_minor": 4
}
